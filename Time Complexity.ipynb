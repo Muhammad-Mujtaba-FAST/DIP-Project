{
 "cells": [
  {
   "cell_type": "markdown",
   "metadata": {},
   "source": [
    "# Time complexities"
   ]
  },
  {
   "cell_type": "code",
   "execution_count": 10,
   "metadata": {},
   "outputs": [],
   "source": [
    "from mtcnn import MTCNN\n",
    "import cv2\n",
    "import time\n",
    "import dlib"
   ]
  },
  {
   "cell_type": "code",
   "execution_count": 11,
   "metadata": {},
   "outputs": [],
   "source": [
    "def detect_and_extract_person_Harr(image_path):\n",
    "    # Load the pre-trained Haar cascade for face detection\n",
    "    face_cascade_path = 'haarcascade_frontalface_default.xml'\n",
    "    face_cascade = cv2.CascadeClassifier(cv2.data.haarcascades + face_cascade_path)\n",
    "\n",
    "    # Read the input image\n",
    "    image = cv2.imread(image_path)\n",
    "\n",
    "    # Resize the image\n",
    "    image = cv2.resize(image, (459,297))\n",
    "\n",
    "    # Convert the image to grayscale\n",
    "    gray = cv2.cvtColor(image, cv2.COLOR_BGR2GRAY)\n",
    "\n",
    "    # Perform face detection\n",
    "    faces = face_cascade.detectMultiScale(gray, scaleFactor=1.1, minNeighbors=6, minSize=(30, 30))\n",
    "\n",
    "    # Extract and save the bounded rectangle image\n",
    "    for i, (x, y, w, h) in enumerate(faces):\n",
    "        # Extract the region of interest (ROI)\n",
    "        roi = image[y-15:y+h+10, x:x+w]\n",
    "\n",
    "def detect_and_extract_person_HOG(image_path):\n",
    "    # Load the pre-trained HOG face detector\n",
    "    hog_face_detector = dlib.get_frontal_face_detector()\n",
    "\n",
    "    # Read the input image\n",
    "    image = cv2.imread(image_path)\n",
    "\n",
    "    # Resize the image\n",
    "    image = cv2.resize(image, (459, 297))\n",
    "\n",
    "    # Convert the image to grayscale\n",
    "    gray = cv2.cvtColor(image, cv2.COLOR_BGR2GRAY)\n",
    "\n",
    "    # Perform face detection using HOG\n",
    "    faces = hog_face_detector(gray)\n",
    "\n",
    "    # Extract and save the bounded rectangle image\n",
    "    for i, face in enumerate(faces):\n",
    "        # Get the coordinates of the bounding box\n",
    "        x, y, w, h = face.left(), face.top(), face.width(), face.height()\n",
    "\n",
    "        # Extract the region of interest (ROI)\n",
    "        roi = image[y-30:y+h+10, x:x+w]\n",
    "\n",
    "def detect_and_extract_person_CNN(image_path):\n",
    "    # Load the MTCNN model\n",
    "    detector = MTCNN()\n",
    "\n",
    "    # Read the input image\n",
    "    image = cv2.imread(image_path)\n",
    "    rgb_image = cv2.cvtColor(image, cv2.COLOR_BGR2RGB)\n",
    "\n",
    "    # Detect faces using MTCNN\n",
    "    faces = detector.detect_faces(rgb_image)\n",
    "\n",
    "    # Extract and save the bounded rectangle image\n",
    "    for i, face_info in enumerate(faces):\n",
    "        x, y, w, h = face_info['box']\n",
    "        \n",
    "        # Extract the region of interest (ROI)\n",
    "        roi = image[y:y+h, x:x+w]"
   ]
  },
  {
   "cell_type": "code",
   "execution_count": 12,
   "metadata": {},
   "outputs": [
    {
     "name": "stdout",
     "output_type": "stream",
     "text": [
      "Execution time for r1.png: 1.243464708328247 seconds\n",
      "Execution time for r2.png: 1.1308505535125732 seconds\n",
      "Execution time for me.jpg: 1.3925068378448486 seconds\n"
     ]
    }
   ],
   "source": [
    "def measure_execution_time(image_path):\n",
    "    start_time = time.time()\n",
    "    detect_and_extract_person_HOG(image_path)\n",
    "    end_time = time.time()\n",
    "    execution_time = end_time - start_time\n",
    "    print(f\"Execution time for {image_path}: {execution_time} seconds\")\n",
    "\n",
    "# Example usage for measuring time complexity\n",
    "image_paths = ['r1.png', 'r2.png' , 'me.jpg']  # Add more images for different input sizes\n",
    "\n",
    "for path in image_paths:\n",
    "    measure_execution_time(path)"
   ]
  },
  {
   "cell_type": "markdown",
   "metadata": {},
   "source": [
    "From the time complexity we can cay thay the time complexity of CNN is the greatest, than comes the time complexity of HOG and Harr Cascade has the lowest time compleity.\n",
    "\n",
    "Time complexity is O(n)"
   ]
  }
 ],
 "metadata": {
  "kernelspec": {
   "display_name": "Python 3",
   "language": "python",
   "name": "python3"
  },
  "language_info": {
   "codemirror_mode": {
    "name": "ipython",
    "version": 3
   },
   "file_extension": ".py",
   "mimetype": "text/x-python",
   "name": "python",
   "nbconvert_exporter": "python",
   "pygments_lexer": "ipython3",
   "version": "3.10.11"
  }
 },
 "nbformat": 4,
 "nbformat_minor": 2
}
