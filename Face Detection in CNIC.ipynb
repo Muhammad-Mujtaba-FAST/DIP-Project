{
 "cells": [
  {
   "cell_type": "markdown",
   "metadata": {},
   "source": [
    "### Detecting face in an CNIC using Harr and HOG"
   ]
  },
  {
   "cell_type": "markdown",
   "metadata": {},
   "source": [
    "# Harr Feature Extraction"
   ]
  },
  {
   "cell_type": "code",
   "execution_count": 5,
   "metadata": {},
   "outputs": [],
   "source": [
    "import matplotlib.pyplot as plt\n",
    "import cv2\n",
    "\n",
    "def detect_and_extract_person(image_path):\n",
    "    # Load the pre-trained Haar cascade for face detection\n",
    "    face_cascade_path = 'haarcascade_frontalface_default.xml'\n",
    "    face_cascade = cv2.CascadeClassifier(cv2.data.haarcascades + face_cascade_path)\n",
    "\n",
    "    # Read the input image\n",
    "    image = cv2.imread(image_path)\n",
    "\n",
    "    # Resize the image\n",
    "    image = cv2.resize(image, (459,297))\n",
    "\n",
    "    # Convert the image to grayscale\n",
    "    gray = cv2.cvtColor(image, cv2.COLOR_BGR2GRAY)\n",
    "\n",
    "    # Perform face detection\n",
    "    faces = face_cascade.detectMultiScale(gray, scaleFactor=1.1, minNeighbors=6, minSize=(30, 30))\n",
    "\n",
    "    # Extract and save the bounded rectangle image\n",
    "    for i, (x, y, w, h) in enumerate(faces):\n",
    "        # Extract the region of interest (ROI)\n",
    "        roi = image[y-15:y+h+10, x:x+w]\n",
    "\n",
    "        # Save the ROI as a new image\n",
    "        cv2.imwrite(f'person_harr_{i+1}.png', roi)\n",
    "\n",
    "        # Draw rectangles around the detected faces on the original image\n",
    "        cv2.rectangle(image, (x, y-17), (x+w, y+h+10), (0, 255, 0), 2)\n",
    "\n",
    "    # Display the result with bounding boxes\n",
    "    cv2.imshow('Person Detection', image)\n",
    "    cv2.waitKey(0)\n",
    "    cv2.destroyAllWindows()\n",
    "    \n",
    "# Example usage\n",
    "image_path = 'r1.png'\n",
    "detect_and_extract_person(image_path)"
   ]
  },
  {
   "cell_type": "markdown",
   "metadata": {},
   "source": [
    "# HOG"
   ]
  },
  {
   "cell_type": "code",
   "execution_count": 4,
   "metadata": {},
   "outputs": [],
   "source": [
    "import matplotlib.pyplot as plt\n",
    "import cv2\n",
    "import dlib\n",
    "\n",
    "def detect_and_extract_person_hog(image_path):\n",
    "    # Load the pre-trained HOG face detector\n",
    "    hog_face_detector = dlib.get_frontal_face_detector()\n",
    "\n",
    "    # Read the input image\n",
    "    image = cv2.imread(image_path)\n",
    "\n",
    "    # Resize the image\n",
    "    image = cv2.resize(image, (459, 297))\n",
    "\n",
    "    # Convert the image to grayscale\n",
    "    gray = cv2.cvtColor(image, cv2.COLOR_BGR2GRAY)\n",
    "\n",
    "    # Perform face detection using HOG\n",
    "    faces = hog_face_detector(gray)\n",
    "\n",
    "    # Extract and save the bounded rectangle image\n",
    "    for i, face in enumerate(faces):\n",
    "        # Get the coordinates of the bounding box\n",
    "        x, y, w, h = face.left(), face.top(), face.width(), face.height()\n",
    "\n",
    "        # Extract the region of interest (ROI)\n",
    "        roi = image[y-30:y+h+10, x:x+w]\n",
    "\n",
    "        # Save the ROI as a new image\n",
    "        cv2.imwrite(f'person_hog_{i+1}.png', roi)\n",
    "\n",
    "        # Draw rectangles around the detected faces on the original image\n",
    "        cv2.rectangle(image, (x, y-30), (x+w, y+h+10), (0, 255, 0), 2)\n",
    "\n",
    "    # Display the result with bounding boxes\n",
    "    cv2.imshow('Person Detection (HOG)', image)\n",
    "    cv2.waitKey(0)\n",
    "    cv2.destroyAllWindows()\n",
    "\n",
    "# Example usage\n",
    "image_path = 'r1.png'\n",
    "detect_and_extract_person_hog(image_path)"
   ]
  }
 ],
 "metadata": {
  "kernelspec": {
   "display_name": "Python 3 (ipykernel)",
   "language": "python",
   "name": "python3"
  },
  "language_info": {
   "codemirror_mode": {
    "name": "ipython",
    "version": 3
   },
   "file_extension": ".py",
   "mimetype": "text/x-python",
   "name": "python",
   "nbconvert_exporter": "python",
   "pygments_lexer": "ipython3",
   "version": "3.10.11"
  }
 },
 "nbformat": 4,
 "nbformat_minor": 5
}
