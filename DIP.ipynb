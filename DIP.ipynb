{
 "cells": [
  {
   "cell_type": "code",
   "execution_count": 1,
   "id": "3ee1c47f",
   "metadata": {},
   "outputs": [],
   "source": [
    "import cv2\n",
    "\n",
    "def detect_person_haar(image_path):\n",
    "    # Load the pre-trained Haar cascade for person detection\n",
    "    # You can replace 'haarcascade_fullbody.xml' with other pre-trained cascade files\n",
    "    cascade_path = 'haarcascade_fullbody.xml'\n",
    "    person_cascade = cv2.CascadeClassifier(cv2.data.haarcascades + cascade_path)\n",
    "\n",
    "    # Read the input image\n",
    "    image = cv2.imread(image_path)\n",
    "    gray = cv2.cvtColor(image, cv2.COLOR_BGR2GRAY)\n",
    "\n",
    "    # Perform person detection\n",
    "    persons = person_cascade.detectMultiScale(gray, scaleFactor=1.1, minNeighbors=5, minSize=(30, 30))\n",
    "\n",
    "    # Draw rectangles around the detected persons\n",
    "    for (x, y, w, h) in persons:\n",
    "        cv2.rectangle(image, (x, y), (x+w, y+h), (0, 255, 0), 2)\n",
    "\n",
    "    # Display the result\n",
    "    cv2.imshow('Person Detection', image)\n",
    "    cv2.waitKey(0)\n",
    "    cv2.destroyAllWindows()\n",
    "\n",
    "# Example usage\n",
    "image_path = 'r1.png'\n",
    "detect_person_haar(image_path)"
   ]
  },
  {
   "cell_type": "markdown",
   "metadata": {},
   "source": [
    "# frontal face default"
   ]
  },
  {
   "cell_type": "code",
   "execution_count": 11,
   "metadata": {},
   "outputs": [],
   "source": [
    "import cv2\n",
    "\n",
    "def detect_and_extract_person(image_path):\n",
    "    # Load the pre-trained Haar cascade for face detection\n",
    "    face_cascade_path = 'haarcascade_frontalface_default.xml'\n",
    "    face_cascade = cv2.CascadeClassifier(cv2.data.haarcascades + face_cascade_path)\n",
    "\n",
    "    # Read the input image\n",
    "    image = cv2.imread(image_path)\n",
    "    gray = cv2.cvtColor(image, cv2.COLOR_BGR2GRAY)\n",
    "\n",
    "    # Perform face detection\n",
    "    faces = face_cascade.detectMultiScale(gray, scaleFactor=1.1, minNeighbors=5, minSize=(30, 30))\n",
    "\n",
    "    # Extract and save the bounded rectangle image\n",
    "    for i, (x, y, w, h) in enumerate(faces):\n",
    "        # Extract the region of interest (ROI)\n",
    "        roi = image[y-15:y+h+10, x:x+w]\n",
    "\n",
    "        # Save the ROI as a new image\n",
    "        cv2.imwrite(f'person_{i+1}.png', roi)\n",
    "\n",
    "        # Draw rectangles around the detected faces on the original image\n",
    "        cv2.rectangle(image, (x, y-15), (x+w, y+h+10), (0, 255, 0), 2)\n",
    "\n",
    "    # Display the result with bounding boxes\n",
    "    cv2.imshow('Person Detection', image)\n",
    "    cv2.waitKey(0)\n",
    "    cv2.destroyAllWindows()\n",
    "\n",
    "# Example usage\n",
    "image_path = 'me.jpg'\n",
    "detect_and_extract_person(image_path)"
   ]
  },
  {
   "cell_type": "code",
   "execution_count": null,
   "metadata": {},
   "outputs": [],
   "source": []
  }
 ],
 "metadata": {
  "kernelspec": {
   "display_name": "Python 3 (ipykernel)",
   "language": "python",
   "name": "python3"
  },
  "language_info": {
   "codemirror_mode": {
    "name": "ipython",
    "version": 3
   },
   "file_extension": ".py",
   "mimetype": "text/x-python",
   "name": "python",
   "nbconvert_exporter": "python",
   "pygments_lexer": "ipython3",
   "version": "3.10.11"
  }
 },
 "nbformat": 4,
 "nbformat_minor": 5
}
