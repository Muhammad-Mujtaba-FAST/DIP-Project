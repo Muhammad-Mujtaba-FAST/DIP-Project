{
 "cells": [
  {
   "cell_type": "markdown",
   "id": "30fbc341",
   "metadata": {},
   "source": [
    "# text display"
   ]
  },
  {
   "cell_type": "code",
   "execution_count": 13,
   "id": "dd55418d",
   "metadata": {},
   "outputs": [
    {
     "name": "stdout",
     "output_type": "stream",
     "text": [
      "Error: OpenCV(4.8.0) :-1: error: (-5:Bad argument) in function 'imshow'\n",
      "> Overload resolution failed:\n",
      ">  - mat is not a numpy array, neither a scalar\n",
      ">  - Expected Ptr<cv::cuda::GpuMat> for argument 'mat'\n",
      ">  - Expected Ptr<cv::UMat> for argument 'mat'\n",
      "\n"
     ]
    }
   ],
   "source": [
    "from PIL import Image\n",
    "import pytesseract\n",
    "import cv2\n",
    "import numpy as np\n",
    "\n",
    "def extract_text_and_image(image_path):\n",
    "    try:\n",
    "        # Open the image file\n",
    "        image = Image.open(image_path)\n",
    "        cv2.imshow(\"grey\", image_path)\n",
    "        cv2.waitKey(0)\n",
    "        cv2.destroyAllWindows()\n",
    "\n",
    "        # Use Tesseract OCR to extract text\n",
    "        extracted_text = pytesseract.image_to_string(image)\n",
    "\n",
    "        if extracted_text:\n",
    "            # Display extracted text\n",
    "            print(\"Extracted Text:\")\n",
    "            print(extracted_text)\n",
    "\n",
    "            # Display the ID card image\n",
    "            image.show()\n",
    "\n",
    "            return extracted_text\n",
    "        else:\n",
    "            print(\"Text extraction failed. Check the image and Tesseract installation.\")\n",
    "\n",
    "    except Exception as e:\n",
    "        print(f\"Error: {str(e)}\")\n",
    "\n",
    "if __name__ == \"__main__\":\n",
    "    # Provide the path to the image of the ID card\n",
    "    image_path = \"5.jpg\"\n",
    "\n",
    "    # Call the function to extract text and display the image\n",
    "    extracted_data = extract_text_and_image(image_path)\n",
    "\n",
    "    if extracted_data:\n",
    "        # Output the extracted data to a text file\n",
    "        with open(\"output.txt\", \"w\", encoding=\"utf-8\") as file:\n",
    "            file.write(extracted_data)"
   ]
  },
  {
   "cell_type": "code",
   "execution_count": null,
   "id": "aeff37a5",
   "metadata": {},
   "outputs": [],
   "source": []
  }
 ],
 "metadata": {
  "kernelspec": {
   "display_name": "Python 3 (ipykernel)",
   "language": "python",
   "name": "python3"
  },
  "language_info": {
   "codemirror_mode": {
    "name": "ipython",
    "version": 3
   },
   "file_extension": ".py",
   "mimetype": "text/x-python",
   "name": "python",
   "nbconvert_exporter": "python",
   "pygments_lexer": "ipython3",
   "version": "3.9.18"
  }
 },
 "nbformat": 4,
 "nbformat_minor": 5
}
